{
 "cells": [
  {
   "cell_type": "markdown",
   "id": "cc57971a-ab05-4649-a0f8-3950dea5dc2d",
   "metadata": {},
   "source": [
    "### 1. What is a Python library? Why we use Python libraries?"
   ]
  },
  {
   "cell_type": "markdown",
   "id": "6516f2ac-5de5-4cc0-8f63-df67c6fbf817",
   "metadata": {},
   "source": [
    "* A Python library is a collection of pre-written code that you can use to perform common tasks, make programming easier, and reduce the amount of code you need to write. Libraries can include functions, classes, and modules that provide various functionalities, ranging from basic operations to complex tasks such as data manipulation, web development, machine learning, and more."
   ]
  },
  {
   "cell_type": "markdown",
   "id": "435c256d-7458-499a-b4ed-d256075b1b02",
   "metadata": {},
   "source": [
    "* We Use Python Libraries for several reasons like:\n",
    "\n",
    "1. Code Reusability: Libraries allow you to reuse code written by others, saving time and effort in writing code from scratch\n",
    "2. Efficiency: Libraries are often optimized for performance, making your programs faster and more efficient.\n",
    "3. Ease of Use: Libraries provide a simple and standardized interface for complex tasks, making them easier to implement.\n",
    "4. Community Support: Many libraries are maintained by the community, ensuring they are up-to-date, well-documented, and debugged."
   ]
  },
  {
   "cell_type": "markdown",
   "id": "86adbc9d-3b24-498e-ba1d-5527443fb1a8",
   "metadata": {},
   "source": [
    "### 2. What is the difference between Numpy array and List?"
   ]
  },
  {
   "cell_type": "markdown",
   "id": "d342bb29-3ccf-4ab1-8825-37b840cbb35c",
   "metadata": {},
   "source": [
    "Python lists and NumPy arrays are both used to store collections of items, but they have significant differences in terms of functionality, performance, and usage. Here's a comparison of key aspects:\n",
    "\n",
    "1. Data Types and Homogeneity:\n",
    "\n",
    "Python List Can store elements of different data types (e.g., integers, floats, strings).\n",
    "* Example: [1 , 2.5, \"apple\"] is a valid list.\n",
    "\n",
    "NumPy Array Requires all elements to be of the same data type. This uniformity allows for optimized performance.\n",
    "* Example: np.array([1, 2, 3]) creates an array of integers, while np.array([1.0, 2.5, 3.1]) creates an array of floats.\n",
    "\n",
    "2. Performance and Efficiency\n",
    "\n",
    "* Python List Generally slower for numerical operations because they are not optimized for arithmetic operations.They have overhead due to the dynamic type checking and flexibility.\n",
    "\n",
    "* NumPy Array Much faster for numerical computations because they are implemented in C and use contiguous blocks of memory.Supports vectorized operations, which allow element-wise operations without explicit loops.\n",
    "\n",
    "3. Functionality and Operations\n",
    "\n",
    "* Python List Offers general-purpose functionality and flexibility.Limited built-in support for mathematical operations and advanced manipulations.\n",
    "* NumPy Array Designed for scientific computing with extensive support for mathematical functions, linear algebra, Fourier transforms, and random number generation.Provides powerful broadcasting capabilities, which allow operations on arrays of different shapes.\n",
    "\n",
    "4. Memory Consumption\n",
    "\n",
    "* Python List Uses more memory because each element is an object, and there is overhead associated with storing type information and pointers.\n",
    "* NumPy Array More memory-efficient as they store elements in a contiguous block of memory and use fixed-size data types.\n",
    "\n",
    "5. Indexing and Slicing\n",
    "* Python List Supports basic indexing and slicing but lacks advanced features like multi-dimensional indexing\n",
    "* NumPy Array Supports multi-dimensional arrays (ndarrays) with advanced indexing and slicing capabilities.\n",
    "\n",
    "6. Use Cases\n",
    "\n",
    "* Python List Suitable for general-purpose programming where flexibility and heterogeneous data storage are needed.\n",
    "* NumPy Array Ideal for numerical computations, data analysis, machine learning, and any scenario requiring efficient handling of large datasets."
   ]
  },
  {
   "cell_type": "markdown",
   "id": "6db0fa0f-2afe-4cf8-a585-6afa9c93ef77",
   "metadata": {},
   "source": [
    "### 3 Find the shape, size and dimension of the following array?\n",
    "\n",
    "[[1, 2, 3, 4]\n",
    "\n",
    "[5, 6, 7, 8],\n",
    "\n",
    "[9, 10, 11, 12]]"
   ]
  },
  {
   "cell_type": "code",
   "execution_count": 12,
   "id": "a00c5406-b908-44ea-85a2-9624880b6254",
   "metadata": {},
   "outputs": [
    {
     "data": {
      "text/plain": [
       "array([[ 1,  2,  3,  4],\n",
       "       [ 5,  6,  7,  8],\n",
       "       [ 9, 10, 11, 12]])"
      ]
     },
     "execution_count": 12,
     "metadata": {},
     "output_type": "execute_result"
    }
   ],
   "source": [
    "import numpy as np\n",
    "\n",
    "arr = np.array([[1, 2, 3, 4],[5, 6, 7, 8],[9, 10, 11, 12]])\n",
    "arr"
   ]
  },
  {
   "cell_type": "code",
   "execution_count": 13,
   "id": "4d2d1c83-cd2a-4c13-be51-69facd45fa2a",
   "metadata": {},
   "outputs": [
    {
     "data": {
      "text/plain": [
       "((3, 4), 12, 2)"
      ]
     },
     "execution_count": 13,
     "metadata": {},
     "output_type": "execute_result"
    }
   ],
   "source": [
    "shape = arr.shape\n",
    "size = arr.size\n",
    "dimension = arr.ndim\n",
    "\n",
    "shape, size, dimension"
   ]
  },
  {
   "cell_type": "markdown",
   "id": "ca622ec7-2aac-420a-8c9c-6ab01d0ad377",
   "metadata": {},
   "source": [
    "### 4. Write python code to access the first row of the following array?\n",
    "\n",
    "[[1, 2, 3, 4]\n",
    "\n",
    "[5, 6, 7, 8],\n",
    "\n",
    "[9, 10, 11, 12]]"
   ]
  },
  {
   "cell_type": "code",
   "execution_count": 14,
   "id": "8dfc0615-aad4-4e42-8485-939af41be8cb",
   "metadata": {},
   "outputs": [
    {
     "data": {
      "text/plain": [
       "array([[ 1,  2,  3,  4],\n",
       "       [ 5,  6,  7,  8],\n",
       "       [ 9, 10, 11, 12]])"
      ]
     },
     "execution_count": 14,
     "metadata": {},
     "output_type": "execute_result"
    }
   ],
   "source": [
    "arr1 = np.array([[1, 2, 3, 4],\n",
    "\n",
    "[5, 6, 7, 8],\n",
    "\n",
    "[9, 10, 11, 12]])\n",
    "arr1"
   ]
  },
  {
   "cell_type": "code",
   "execution_count": 15,
   "id": "2cc8decf-3a46-4437-a26e-5fd31f2b4cf2",
   "metadata": {},
   "outputs": [
    {
     "data": {
      "text/plain": [
       "array([1, 2, 3, 4])"
      ]
     },
     "execution_count": 15,
     "metadata": {},
     "output_type": "execute_result"
    }
   ],
   "source": [
    "first_row = arr1[0]\n",
    "first_row"
   ]
  },
  {
   "cell_type": "markdown",
   "id": "9f762b29-22a0-43af-8963-3a3092b0ca5c",
   "metadata": {},
   "source": [
    "### 5. How do you access the element at the third row and fourth column from the given numpy array?"
   ]
  },
  {
   "cell_type": "code",
   "execution_count": 17,
   "id": "4e1e7f88-9283-42d1-a07e-88957fd23003",
   "metadata": {},
   "outputs": [
    {
     "data": {
      "text/plain": [
       "12"
      ]
     },
     "execution_count": 17,
     "metadata": {},
     "output_type": "execute_result"
    }
   ],
   "source": [
    "element = arr1[2,3]\n",
    "element"
   ]
  },
  {
   "cell_type": "markdown",
   "id": "d967c292-49fb-46ff-a3e9-e865174cae80",
   "metadata": {},
   "source": [
    "#### 6. Write code to extract all odd-indexed elements from the given numpy array?"
   ]
  },
  {
   "cell_type": "code",
   "execution_count": 21,
   "id": "ec928daa-6bd7-4022-acbb-d190eb902c0c",
   "metadata": {},
   "outputs": [
    {
     "name": "stdout",
     "output_type": "stream",
     "text": [
      "[2, 4, 5, 6, 7, 8, 10, 12]\n"
     ]
    }
   ],
   "source": [
    "odd_indexed_elements = []\n",
    "\n",
    "rows, cols = array.shape\n",
    "for i in range(rows):\n",
    "    for j in range(cols):\n",
    "        if i % 2 != 0 or j % 2 != 0:\n",
    "            odd_indexed_elements.append(array[i, j])\n",
    "\n",
    "print(odd_indexed_elements)"
   ]
  },
  {
   "cell_type": "markdown",
   "id": "8d03cad8-b180-4d1c-ab60-5e910b261b8d",
   "metadata": {},
   "source": [
    "### 7. How can you generate a random 3x3 matrix with values between 0 and 1?"
   ]
  },
  {
   "cell_type": "code",
   "execution_count": 22,
   "id": "834a13be-5295-4969-b45d-5cf37d7c7100",
   "metadata": {},
   "outputs": [
    {
     "data": {
      "text/plain": [
       "array([[0.65300707, 0.13446607, 0.31148503],\n",
       "       [0.16975866, 0.76731406, 0.43902299],\n",
       "       [0.90089872, 0.42637289, 0.50756195]])"
      ]
     },
     "execution_count": 22,
     "metadata": {},
     "output_type": "execute_result"
    }
   ],
   "source": [
    "random_matrix = np.random.rand(3,3)\n",
    "random_matrix"
   ]
  },
  {
   "cell_type": "markdown",
   "id": "7834d70a-9dac-4ad3-ac73-1ded9e54bb80",
   "metadata": {},
   "source": [
    "### 8. Describe the difference between np.random.rand and np.random.randn?"
   ]
  },
  {
   "cell_type": "markdown",
   "id": "f09c7497-8c4d-441e-a6ea-23fbfe86210a",
   "metadata": {},
   "source": [
    "The functions np.random.rand and np.random.randn from the NumPy library both generate arrays of random numbers, but they have different distributions for their generated numbers. Here's a detailed comparison of the two:\n",
    "1. np.random.rand\n",
    "* Description: Generates random numbers from a uniform distribution.\n",
    "* Range: The values are in the range [0, 1).\n",
    "* Distribution: Uniform distribution, meaning each number in the specified range is equally likely to be drawn.\n",
    "* Usage: Useful when you need random samples from a uniform distribution.\n",
    "\n",
    "2. np.random.randn\n",
    "* Description: Generates random numbers from a standard normal (Gaussian) distribution.\n",
    "* Range: The values can range from negative infinity to positive infinity, though most values will lie within a few standard deviations of the mean.\n",
    "* Distribution: Normal distribution with mean 0 and standard deviation 1.\n",
    "* Usage: Useful when you need random samples from a normal distribution."
   ]
  },
  {
   "cell_type": "markdown",
   "id": "a5f32ebc-eeee-449c-87ad-4fb4ce347ce6",
   "metadata": {},
   "source": [
    "### 9. Write co^e to increase the dimension of the following array?\n",
    "\n",
    "[[1, 2, 3, 4]\n",
    "\n",
    "[5, 6, 7, 8],\n",
    "\n",
    "[9, 10, 11, 12]]"
   ]
  },
  {
   "cell_type": "code",
   "execution_count": 23,
   "id": "5f9f54f1-374d-40e1-b935-56ef805dae02",
   "metadata": {},
   "outputs": [
    {
     "data": {
      "text/plain": [
       "array([[ 1,  2,  3,  4],\n",
       "       [ 5,  6,  7,  8],\n",
       "       [ 9, 10, 11, 12]])"
      ]
     },
     "execution_count": 23,
     "metadata": {},
     "output_type": "execute_result"
    }
   ],
   "source": [
    "arr1"
   ]
  },
  {
   "cell_type": "code",
   "execution_count": 26,
   "id": "236243ea-a2ae-4f74-b13f-1c55be9e42d6",
   "metadata": {},
   "outputs": [
    {
     "data": {
      "text/plain": [
       "array([[[ 1,  2,  3,  4]],\n",
       "\n",
       "       [[ 5,  6,  7,  8]],\n",
       "\n",
       "       [[ 9, 10, 11, 12]]])"
      ]
     },
     "execution_count": 26,
     "metadata": {},
     "output_type": "execute_result"
    }
   ],
   "source": [
    "expanded_array = np.expand_dims(arr1, axis = 1)\n",
    "expanded_array"
   ]
  },
  {
   "cell_type": "code",
   "execution_count": 28,
   "id": "5704ef65-64a0-4429-bcfe-104da805a009",
   "metadata": {},
   "outputs": [
    {
     "data": {
      "text/plain": [
       "2"
      ]
     },
     "execution_count": 28,
     "metadata": {},
     "output_type": "execute_result"
    }
   ],
   "source": [
    "arr1.ndim"
   ]
  },
  {
   "cell_type": "markdown",
   "id": "f6f3a4b6-4166-43ed-9ce3-c98c4b75c4eb",
   "metadata": {},
   "source": [
    "### 10. How to transpose the following array in NumPy?\n",
    "\n",
    "[[1, 2, 3, 4]\n",
    "\n",
    "[5, 6, 7, 8],\n",
    "\n",
    "[9, 10, 11, 12]]"
   ]
  },
  {
   "cell_type": "markdown",
   "id": "e11730de-5867-497b-9ec3-d276469d8652",
   "metadata": {},
   "source": [
    "### 11. Consider the following matrix:\n",
    "* Matrix A: [[1, 2, 3, 4] [5, 6, 7, 8],[9, 10, 11, 12]]\n",
    "* Matrix B: [[1, 2, 3, 4] [5, 6, 7, 8],[9, 10, 11, 12]]"
   ]
  },
  {
   "cell_type": "markdown",
   "id": "28a3b1e4-5ee2-4ba9-bb4e-6da66c14431e",
   "metadata": {},
   "source": [
    "### Perform the following operation using Python\n",
    "* Index wise multiplication\n",
    "\n"
   ]
  },
  {
   "cell_type": "code",
   "execution_count": 2,
   "id": "4a1d8fcb-fdca-4be0-8202-2223441ed7b2",
   "metadata": {},
   "outputs": [],
   "source": [
    "import numpy as np"
   ]
  },
  {
   "cell_type": "code",
   "execution_count": 5,
   "id": "ad9e9fa5-0637-4ec9-95bf-69d8ba809188",
   "metadata": {},
   "outputs": [],
   "source": [
    "arr_a =  np.array([[1, 2, 3, 4],[5, 6, 7, 8],[9, 10, 11, 12]])\n",
    "arr_b =  np.array([[1, 2, 3, 4], [5, 6, 7, 8],[9, 10, 11, 12]])"
   ]
  },
  {
   "cell_type": "code",
   "execution_count": 6,
   "id": "e876f08c-2e95-4b96-878e-7c6ccf842dd8",
   "metadata": {},
   "outputs": [
    {
     "data": {
      "text/plain": [
       "array([[ 1,  2,  3,  4],\n",
       "       [ 5,  6,  7,  8],\n",
       "       [ 9, 10, 11, 12]])"
      ]
     },
     "execution_count": 6,
     "metadata": {},
     "output_type": "execute_result"
    }
   ],
   "source": [
    "arr_a"
   ]
  },
  {
   "cell_type": "code",
   "execution_count": 7,
   "id": "e10316be-ef1c-4b9d-ba12-3af00cf20665",
   "metadata": {},
   "outputs": [
    {
     "data": {
      "text/plain": [
       "array([[ 1,  2,  3,  4],\n",
       "       [ 5,  6,  7,  8],\n",
       "       [ 9, 10, 11, 12]])"
      ]
     },
     "execution_count": 7,
     "metadata": {},
     "output_type": "execute_result"
    }
   ],
   "source": [
    "arr_b"
   ]
  },
  {
   "cell_type": "code",
   "execution_count": 8,
   "id": "8189a325-0f74-46ce-a472-2741536e0cc8",
   "metadata": {},
   "outputs": [
    {
     "data": {
      "text/plain": [
       "array([[  1,   4,   9,  16],\n",
       "       [ 25,  36,  49,  64],\n",
       "       [ 81, 100, 121, 144]])"
      ]
     },
     "execution_count": 8,
     "metadata": {},
     "output_type": "execute_result"
    }
   ],
   "source": [
    "arr_a*arr_b"
   ]
  },
  {
   "cell_type": "markdown",
   "id": "b4b8e827-08fd-41b9-9050-288f42d410ef",
   "metadata": {},
   "source": [
    "*  Matrix multiplication"
   ]
  },
  {
   "cell_type": "code",
   "execution_count": 9,
   "id": "319b7791-736a-4e1d-b4d5-b27c5dbb2432",
   "metadata": {},
   "outputs": [
    {
     "ename": "ValueError",
     "evalue": "shapes (3,4) and (3,4) not aligned: 4 (dim 1) != 3 (dim 0)",
     "output_type": "error",
     "traceback": [
      "\u001b[1;31m---------------------------------------------------------------------------\u001b[0m",
      "\u001b[1;31mValueError\u001b[0m                                Traceback (most recent call last)",
      "Cell \u001b[1;32mIn[9], line 1\u001b[0m\n\u001b[1;32m----> 1\u001b[0m np\u001b[38;5;241m.\u001b[39mdot(arr_a,arr_b)\n",
      "\u001b[1;31mValueError\u001b[0m: shapes (3,4) and (3,4) not aligned: 4 (dim 1) != 3 (dim 0)"
     ]
    }
   ],
   "source": [
    "np.dot(arr_a,arr_b)"
   ]
  },
  {
   "cell_type": "markdown",
   "id": "fbb3c1af-fbfb-4bb1-8be2-8b552dc0deef",
   "metadata": {},
   "source": [
    "matrix multiplication is not possible because the number of columns in the first matrix must be equal to the number of rows in the second matrix. In this case, both matrices are 3x4, so they cannot be multiplied directly using traditional matrix multiplication rules."
   ]
  },
  {
   "cell_type": "markdown",
   "id": "5642a79e-acb9-418e-a50b-f8f97c26f525",
   "metadata": {},
   "source": [
    "* Add both the matrics"
   ]
  },
  {
   "cell_type": "code",
   "execution_count": 17,
   "id": "226347d4-13c6-4172-8673-e788fe1c93d8",
   "metadata": {},
   "outputs": [
    {
     "data": {
      "text/plain": [
       "array([[ 2,  4,  6,  8],\n",
       "       [10, 12, 14, 16],\n",
       "       [18, 20, 22, 24]])"
      ]
     },
     "execution_count": 17,
     "metadata": {},
     "output_type": "execute_result"
    }
   ],
   "source": [
    "np.add(arr_a, arr_b)"
   ]
  },
  {
   "cell_type": "markdown",
   "id": "35a98eee-7d85-4b96-8b36-ba9104f86ac1",
   "metadata": {},
   "source": [
    "* Subtract matrix B from A"
   ]
  },
  {
   "cell_type": "code",
   "execution_count": 18,
   "id": "43ca47ad-5a34-4746-beb1-736455f9a3d8",
   "metadata": {},
   "outputs": [],
   "source": [
    "sub = np.subtract(arr_a, arr_b)"
   ]
  },
  {
   "cell_type": "code",
   "execution_count": 19,
   "id": "4b7fc86c-51db-4292-8018-03be7163cd86",
   "metadata": {},
   "outputs": [
    {
     "data": {
      "text/plain": [
       "array([[0, 0, 0, 0],\n",
       "       [0, 0, 0, 0],\n",
       "       [0, 0, 0, 0]])"
      ]
     },
     "execution_count": 19,
     "metadata": {},
     "output_type": "execute_result"
    }
   ],
   "source": [
    "sub"
   ]
  },
  {
   "cell_type": "markdown",
   "id": "8395b469-4348-43a0-86bd-398f9e4646c9",
   "metadata": {},
   "source": [
    "* Divide Matrix B by A"
   ]
  },
  {
   "cell_type": "code",
   "execution_count": 20,
   "id": "6cfc95ed-c993-44ad-92a5-6990583265e5",
   "metadata": {},
   "outputs": [
    {
     "data": {
      "text/plain": [
       "array([[1., 1., 1., 1.],\n",
       "       [1., 1., 1., 1.],\n",
       "       [1., 1., 1., 1.]])"
      ]
     },
     "execution_count": 20,
     "metadata": {},
     "output_type": "execute_result"
    }
   ],
   "source": [
    "np.divide(arr_a, arr_b)"
   ]
  },
  {
   "cell_type": "markdown",
   "id": "0558ab57-75c2-4462-80d3-01aeb540bc47",
   "metadata": {},
   "source": [
    "### 12.  Which function in Numpy can be used to swap the byte order of an array?"
   ]
  },
  {
   "cell_type": "markdown",
   "id": "72c3dba4-80a5-4164-967a-f5c9c10ba7d9",
   "metadata": {},
   "source": [
    "In NumPy, the byteswap() function can be used to swap the byte order of an array. This function can be useful when dealing with data that has a different endianness than your system's native byte order.\n",
    "for example:"
   ]
  },
  {
   "cell_type": "code",
   "execution_count": 22,
   "id": "c4bd1adb-0bf0-4079-9fa7-c659ed8ec500",
   "metadata": {},
   "outputs": [
    {
     "name": "stdout",
     "output_type": "stream",
     "text": [
      "Original array:\n",
      "[    1   256 65536]\n",
      "Original byte order:\n",
      "[    1   256 65536]\n",
      "Array with swapped byte order:\n",
      "[16777216    65536      256]\n",
      "Swapped byte order:\n",
      "[    1   256 65536]\n"
     ]
    }
   ],
   "source": [
    "import numpy as np\n",
    "\n",
    "# Create an array with a specific dtype\n",
    "arr = np.array([1, 256, 65536], dtype=np.int32)\n",
    "\n",
    "print(\"Original array:\")\n",
    "print(arr)\n",
    "print(\"Original byte order:\")\n",
    "print(arr.byteswap().newbyteorder())\n",
    "\n",
    "# Swap the byte order\n",
    "swapped_arr = arr.byteswap()\n",
    "\n",
    "print(\"Array with swapped byte order:\")\n",
    "print(swapped_arr)\n",
    "print(\"Swapped byte order:\")\n",
    "print(swapped_arr.newbyteorder())\n"
   ]
  },
  {
   "cell_type": "markdown",
   "id": "6229c365-7470-4172-b1cc-90c2ef9e5456",
   "metadata": {},
   "source": [
    "### 13.  What is the significance of the np.linalg.inv function?"
   ]
  },
  {
   "cell_type": "markdown",
   "id": "d8b22013-8cc2-4461-a1df-eb0a42881f39",
   "metadata": {},
   "source": [
    "The np.linalg.inv function in NumPy is used to compute the inverse of a square matrix. The significance of this function lies in its utility for solving systems of linear equations, determining the singularity of a matrix, and for various other mathematical and computational applications."
   ]
  },
  {
   "cell_type": "markdown",
   "id": "6c497239-547f-4db1-b2eb-b7ff1ee1387b",
   "metadata": {},
   "source": [
    "### 14. What does the np.reshape function do, and how is it used?"
   ]
  },
  {
   "cell_type": "markdown",
   "id": "57ac8424-e3f7-4882-98ee-efcd16716ba9",
   "metadata": {},
   "source": [
    "The np.reshape function in NumPy is used to change the shape (dimensions) of an array without changing its data. It allows you to reorganize the elements of an array to fit into a new shape specified by the user. for example:"
   ]
  },
  {
   "cell_type": "code",
   "execution_count": 24,
   "id": "fab85287-5d83-49f4-86b5-5d3af2f75efe",
   "metadata": {},
   "outputs": [
    {
     "name": "stdout",
     "output_type": "stream",
     "text": [
      "[[1 2 3]\n",
      " [4 5 6]]\n"
     ]
    }
   ],
   "source": [
    "import numpy as np\n",
    "arr = np.array([1, 2, 3, 4, 5, 6])\n",
    "\n",
    "# Reshape the 1D array into a 2D array with 2 rows and 3 columns\n",
    "reshaped_arr = np.reshape(arr, (2, 3))\n",
    "\n",
    "print(reshaped_arr)"
   ]
  },
  {
   "cell_type": "markdown",
   "id": "ee9cafb4-a588-4d39-852d-f56364752d0a",
   "metadata": {},
   "source": [
    "### 15. What is broadcasting in Numpy?"
   ]
  },
  {
   "cell_type": "code",
   "execution_count": null,
   "id": "17d9f78d-a123-43c5-8cc6-28c63b6fa96e",
   "metadata": {},
   "outputs": [],
   "source": []
  }
 ],
 "metadata": {
  "kernelspec": {
   "display_name": "Python 3 (ipykernel)",
   "language": "python",
   "name": "python3"
  },
  "language_info": {
   "codemirror_mode": {
    "name": "ipython",
    "version": 3
   },
   "file_extension": ".py",
   "mimetype": "text/x-python",
   "name": "python",
   "nbconvert_exporter": "python",
   "pygments_lexer": "ipython3",
   "version": "3.11.7"
  },
  "widgets": {
   "application/vnd.jupyter.widget-state+json": {
    "state": {},
    "version_major": 2,
    "version_minor": 0
   }
  }
 },
 "nbformat": 4,
 "nbformat_minor": 5
}
